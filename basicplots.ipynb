{
 "cells": [
  {
   "cell_type": "markdown",
   "metadata": {},
   "source": [
    "<h1>The Beginning: Slice Plots!</h1>\n",
    "First, basic loading of data, then lets start by making a slice plot!"
   ]
  },
  {
   "cell_type": "code",
   "execution_count": null,
   "metadata": {
    "collapsed": false
   },
   "outputs": [],
   "source": [
    "import yt\n",
    "ds = yt.load('/Users/jillnaiman1/data/IsolatedGalaxy/galaxy0030/galaxy0030')"
   ]
  },
  {
   "cell_type": "markdown",
   "metadata": {},
   "source": [
    "Here we will start with a slice along the x-axis of our sim with the center at the maximum of the variable we are plotting - density"
   ]
  },
  {
   "cell_type": "code",
   "execution_count": null,
   "metadata": {
    "collapsed": false
   },
   "outputs": [],
   "source": [
    "s = yt.SlicePlot(ds, \"x\", [\"density\"], center=\"max\")"
   ]
  },
  {
   "cell_type": "markdown",
   "metadata": {},
   "source": [
    "Now, lets see our default plot, around the max"
   ]
  },
  {
   "cell_type": "code",
   "execution_count": null,
   "metadata": {
    "collapsed": false
   },
   "outputs": [],
   "source": [
    "s.show()"
   ]
  },
  {
   "cell_type": "markdown",
   "metadata": {},
   "source": [
    "We can also center around other things, like the actual center of the domain:"
   ]
  },
  {
   "cell_type": "code",
   "execution_count": null,
   "metadata": {
    "collapsed": false
   },
   "outputs": [],
   "source": [
    "s = yt.SlicePlot(ds, \"x\", [\"density\"], center=\"max\")\n",
    "s.show()"
   ]
  },
  {
   "cell_type": "markdown",
   "metadata": {},
   "source": [
    "Given that the center of our sim isn't that different from the center of the maximum density, these plots basically look the same.\n",
    "\n",
    "Other center arguments can be like (\"min\", field) or (\"max\", field) where field is one of the variables in your data set or a derived variable.\n",
    "\n",
    "Finally, you can also set the center by hand:"
   ]
  },
  {
   "cell_type": "code",
   "execution_count": null,
   "metadata": {
    "collapsed": false
   },
   "outputs": [],
   "source": [
    "s = yt.SlicePlot(ds, \"x\", [\"density\"], center=[0.55, 0.5, 0.5])\n",
    "s.show()"
   ]
  },
  {
   "cell_type": "markdown",
   "metadata": {},
   "source": [
    "The above is now a slice plot that instead of being at the center of the data set is a little further out along the x-axis so you are looking at the larger scale structure outside the centeral over density.\n",
    "\n",
    "Ok, now lets start moving out our data cube with slice plots.  I think we might wanna zoom in a bit, so lets do that!"
   ]
  },
  {
   "cell_type": "code",
   "execution_count": null,
   "metadata": {
    "collapsed": false
   },
   "outputs": [],
   "source": [
    "s = yt.SlicePlot(ds, \"x\", [\"density\"], center=\"max\")\n",
    "s.zoom(2.5)\n",
    "s.show()"
   ]
  },
  {
   "cell_type": "markdown",
   "metadata": {},
   "source": [
    "But you know what now? lets try annotating this thing!  Lets start with some temperature contours."
   ]
  },
  {
   "cell_type": "code",
   "execution_count": null,
   "metadata": {
    "collapsed": false
   },
   "outputs": [],
   "source": [
    "s.annotate_contour(\"temperature\")\n"
   ]
  },
  {
   "cell_type": "markdown",
   "metadata": {},
   "source": [
    "You know what? Lets change the color map from the default."
   ]
  },
  {
   "cell_type": "code",
   "execution_count": null,
   "metadata": {
    "collapsed": false
   },
   "outputs": [],
   "source": [
    "s.set_cmap('density','jet')\n",
    "s.show()"
   ]
  },
  {
   "cell_type": "markdown",
   "metadata": {},
   "source": [
    "Finally, lets maybe put on some velocity vectors!"
   ]
  },
  {
   "cell_type": "code",
   "execution_count": null,
   "metadata": {
    "collapsed": false
   },
   "outputs": [],
   "source": [
    "s.annotate_velocity()"
   ]
  },
  {
   "cell_type": "markdown",
   "metadata": {},
   "source": [
    "Like it? then you can keep it!"
   ]
  },
  {
   "cell_type": "code",
   "execution_count": null,
   "metadata": {
    "collapsed": false,
    "scrolled": true
   },
   "outputs": [],
   "source": [
    "s.save('/Users/jillnaiman1/Desktop/myslice.png')"
   ]
  },
  {
   "cell_type": "markdown",
   "metadata": {},
   "source": [
    "But lets say you wanna clear everything and just plot some grids"
   ]
  },
  {
   "cell_type": "code",
   "execution_count": null,
   "metadata": {
    "collapsed": false,
    "scrolled": true
   },
   "outputs": [],
   "source": [
    "s.annotate_clear()\n",
    "s.show()"
   ]
  },
  {
   "cell_type": "markdown",
   "metadata": {},
   "source": [
    "Now, lets over plot some grids for fun!"
   ]
  },
  {
   "cell_type": "code",
   "execution_count": null,
   "metadata": {
    "collapsed": false
   },
   "outputs": [],
   "source": [
    "s.annotate_grids()\n",
    "s.show()"
   ]
  },
  {
   "cell_type": "markdown",
   "metadata": {},
   "source": [
    "Lets zoom in and plot the actual cell edges"
   ]
  },
  {
   "cell_type": "code",
   "execution_count": null,
   "metadata": {
    "collapsed": false
   },
   "outputs": [],
   "source": [
    "s.set_width((20, 'kpc'))\n",
    "s.annotate_cell_edges()\n",
    "s.show()"
   ]
  },
  {
   "cell_type": "markdown",
   "metadata": {},
   "source": [
    "Finally, lets say something silly:"
   ]
  },
  {
   "cell_type": "code",
   "execution_count": null,
   "metadata": {
    "collapsed": false
   },
   "outputs": [],
   "source": [
    "s.annotate_clear()\n",
    "s.annotate_title('I am the most awesomest plot')\n",
    "s.annotate_text((5, 5), 'Galaxy!', coord_system='plot')"
   ]
  },
  {
   "cell_type": "markdown",
   "metadata": {},
   "source": [
    "If you wanna make a really pretty slice plot that isn't distracted by all that mathy axis and color bar stuff, you are also welcome to totally do that:"
   ]
  },
  {
   "cell_type": "code",
   "execution_count": null,
   "metadata": {
    "collapsed": false
   },
   "outputs": [],
   "source": [
    "s_pretty = yt.SlicePlot(ds, 'z', 'density', width=(10,'kpc'))\n",
    "s_pretty.hide_colorbar()\n",
    "s_pretty.hide_axes()\n",
    "s_pretty.show()\n"
   ]
  },
  {
   "cell_type": "markdown",
   "metadata": {},
   "source": [
    "You can also change a bit how the axis are displayed if you choose to still keep them in your plot:"
   ]
  },
  {
   "cell_type": "code",
   "execution_count": null,
   "metadata": {
    "collapsed": false
   },
   "outputs": [],
   "source": [
    "s_fonts = yt.SlicePlot(ds, 'z', 'density', width=(10,'kpc'))\n",
    "s_fonts.set_font({'family': 'sans-serif', 'style': 'italic',\n",
    "              'weight': 'bold', 'size': 24})\n",
    "s_fonts.show()\n"
   ]
  },
  {
   "cell_type": "markdown",
   "metadata": {},
   "source": [
    "More options for annotations are available on: http://yt-project.org/doc/visualizing/callbacks.html#annotate-clear\n",
    "\n",
    "Also, if you want to further modify your plots on a more nitty gritty level (including directly throught matplotlib), check out more details on: http://yt-project.org/docs/dev/visualizing/plots.html"
   ]
  },
  {
   "cell_type": "markdown",
   "metadata": {},
   "source": [
    "<h1>Now Moar plots: Projection, Phase, Profile!</h1>\n",
    "Lets check out some of the other neato keen plots you can make simply with yt!"
   ]
  },
  {
   "cell_type": "markdown",
   "metadata": {},
   "source": [
    "<h3>(1) Projections</h3>"
   ]
  },
  {
   "cell_type": "code",
   "execution_count": null,
   "metadata": {
    "collapsed": false
   },
   "outputs": [],
   "source": [
    "p = yt.ProjectionPlot(ds, \"y\", \"density\")\n",
    "p.show()"
   ]
  },
  {
   "cell_type": "markdown",
   "metadata": {},
   "source": [
    "The above is an example of an unweighted projection plot: this means that the plotted variable is just integrated along the line of sight g(x) = int(f(x,y,z)*ds), where ds is the unit vector along the line of sight.  But! We can also weight by stuff:"
   ]
  },
  {
   "cell_type": "code",
   "execution_count": null,
   "metadata": {
    "collapsed": false
   },
   "outputs": [],
   "source": [
    "pw = yt.ProjectionPlot(ds, \"x\", \"temperature\", weight_field=\"density\")\n",
    "pw.show()"
   ]
  },
  {
   "cell_type": "markdown",
   "metadata": {},
   "source": [
    "The above is like g(x) = int(f(x,y,z)*w(x,y,z)*ds)/int(w(x,y,z)*ds).  Other options are \"mip\" which gives the max along the axis, or \"sum\" which does a direct summation (useful for example when 3rd axis is like frequency or something)."
   ]
  },
  {
   "cell_type": "markdown",
   "metadata": {},
   "source": [
    "<h4>Off Axis!</h4>\n",
    "Before moving onto some more analysis-y type plots, one thing worth mentioning is that you can make both slice plots and projection plots off axis - so... that's pretty sweet.  Lets do some!\n",
    "\n",
    "In principle, you can give it any old vector with which to do the rotation about.  For fun, lets project everything along the rotation vector!\n"
   ]
  },
  {
   "cell_type": "code",
   "execution_count": null,
   "metadata": {
    "collapsed": false
   },
   "outputs": [],
   "source": [
    "# Create a 15 kpc radius sphere, centered on the center of the sim volume\n",
    "# in this way, we can do our projection over a subset of the domain\n",
    "sp = ds.sphere(\"center\", (15.0, \"kpc\"))\n",
    "\n",
    "# Get the angular momentum vector for the sphere.\n",
    "L = sp.quantities.angular_momentum_vector()\n",
    "\n",
    "print(\"Angular momentum vector: {0}\".format(L))"
   ]
  },
  {
   "cell_type": "code",
   "execution_count": null,
   "metadata": {
    "collapsed": false
   },
   "outputs": [],
   "source": [
    "soff = yt.OffAxisSlicePlot(ds, L, \"density\", sp.center, (25, \"kpc\"))\n",
    "soff.show()"
   ]
  },
  {
   "cell_type": "markdown",
   "metadata": {},
   "source": [
    "Lets also do an off axis projection plot!"
   ]
  },
  {
   "cell_type": "code",
   "execution_count": null,
   "metadata": {
    "collapsed": false
   },
   "outputs": [],
   "source": [
    "poff = yt.OffAxisProjectionPlot(ds, L, \"density\", sp.center, (25, \"kpc\"))\n",
    "poff.show()"
   ]
  },
  {
   "cell_type": "markdown",
   "metadata": {},
   "source": [
    "<h3>(2) Phase Plots</h3>\n",
    "Now maybe you wanna know something about the content of your sim - like how much cold dense gas is there in your sim?  To do this we can make a phase plot."
   ]
  },
  {
   "cell_type": "markdown",
   "metadata": {},
   "source": [
    "Phase Plots are best thought of as plotting a distribution of points, either taking the average or the accumulation in a bin. The default behavior is to average, using the cell mass as the weighting, but this behavior can be controlled through the weight_field parameter."
   ]
  },
  {
   "cell_type": "code",
   "execution_count": null,
   "metadata": {
    "collapsed": false
   },
   "outputs": [],
   "source": [
    "my_sphere = ds.sphere(\"c\", (50, \"kpc\"))\n",
    "ph = yt.PhasePlot(my_sphere, \"density\", \"temperature\", [\"H_fraction\"],\n",
    "                        weight_field=None)\n",
    "ph.show()"
   ]
  },
  {
   "cell_type": "markdown",
   "metadata": {},
   "source": [
    "If you would rather see the average value of a field as a function of two other fields, leave off the weight_field argument, and it will average by the cell mass. Like so:"
   ]
  },
  {
   "cell_type": "code",
   "execution_count": null,
   "metadata": {
    "collapsed": false
   },
   "outputs": [],
   "source": [
    "ph_cellmass = yt.PhasePlot(my_sphere, \"density\", \"temperature\", [\"H_fraction\"])\n",
    "ph_cellmass.show()"
   ]
  },
  {
   "cell_type": "markdown",
   "metadata": {},
   "source": [
    "<h3>(3) Simple Profile plots</h3>\n",
    "Now maybe you wanna take it down a notch and look at your data in different sorts of 1D plots... lets do it!"
   ]
  },
  {
   "cell_type": "markdown",
   "metadata": {},
   "source": [
    "For example, lets look at how the temperture changes as a function of density within the spiral galaxy part of our IsolatedGalaxy simulation.  This will create a YTDisk centered at [0.5, 0.5, 0.5], with a normal vector of [0.0, 0.0, 1.0], radius of 10 kiloparsecs and height of 3 kiloparsecs and will then make a plot of the mass-weighted average temperature as a function of density for all of the gas contained in the cylinder."
   ]
  },
  {
   "cell_type": "code",
   "execution_count": null,
   "metadata": {
    "collapsed": false
   },
   "outputs": [],
   "source": [
    "my_galaxy = ds.disk(ds.domain_center, [0.0, 0.0, 1.0], 10*yt.units.kpc, 3*yt.units.kpc)\n",
    "p1d = yt.ProfilePlot(my_galaxy, \"density\", [\"temperature\"])\n",
    "p1d.show()"
   ]
  },
  {
   "cell_type": "markdown",
   "metadata": {},
   "source": [
    "We might also want to know how this looks over a whole sphere.  Maybe how much gas is at a certain temperature."
   ]
  },
  {
   "cell_type": "code",
   "execution_count": null,
   "metadata": {
    "collapsed": false
   },
   "outputs": [],
   "source": [
    "my_sphere = ds.sphere([0.5, 0.5, 0.5], (100, \"kpc\"))\n",
    "p1d_sp = yt.ProfilePlot(my_sphere, \"temperature\", [\"cell_mass\"],\n",
    "                      weight_field=None)\n",
    "p1d_sp.show()"
   ]
  },
  {
   "cell_type": "markdown",
   "metadata": {},
   "source": [
    "Note that because we have specified the weighting field to be None, the profile plot will display the accumulated cell mass as a function of temperature rather than the average.  But we could totally weight by something like density."
   ]
  },
  {
   "cell_type": "code",
   "execution_count": null,
   "metadata": {
    "collapsed": false
   },
   "outputs": [],
   "source": [
    "p1d_spw = yt.ProfilePlot(my_sphere, \"temperature\", [\"cell_mass\"],\n",
    "                      weight_field='density')\n",
    "p1d_spw.show()"
   ]
  },
  {
   "cell_type": "markdown",
   "metadata": {},
   "source": [
    "So we see there is more dense stuff at lower temperatures... I think this is what this says."
   ]
  },
  {
   "cell_type": "markdown",
   "metadata": {},
   "source": [
    "Also, sometimes maybe you wanna see how something accumulates over radius.  This happens a lot with mass - we want to know how much mass is in a sphere.  We can do this like:"
   ]
  },
  {
   "cell_type": "code",
   "execution_count": null,
   "metadata": {
    "collapsed": false
   },
   "outputs": [],
   "source": [
    "p1d_acc = yt.ProfilePlot(my_sphere, \"radius\", [\"cell_mass\"],\n",
    "                      weight_field=None, accumulation=True)\n",
    "p1d_acc.show()"
   ]
  },
  {
   "cell_type": "code",
   "execution_count": null,
   "metadata": {
    "collapsed": true
   },
   "outputs": [],
   "source": []
  }
 ],
 "metadata": {
  "anaconda-cloud": {},
  "kernelspec": {
   "display_name": "Python [conda root]",
   "language": "python",
   "name": "conda-root-py"
  },
  "language_info": {
   "codemirror_mode": {
    "name": "ipython",
    "version": 2
   },
   "file_extension": ".py",
   "mimetype": "text/x-python",
   "name": "python",
   "nbconvert_exporter": "python",
   "pygments_lexer": "ipython2",
   "version": "2.7.10"
  }
 },
 "nbformat": 4,
 "nbformat_minor": 1
}
