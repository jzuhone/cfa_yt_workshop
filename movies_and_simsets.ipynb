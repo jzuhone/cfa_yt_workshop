{
 "cells": [
  {
   "cell_type": "markdown",
   "metadata": {},
   "source": [
    "<h1> Topics</h1>\n",
    "* making movies\n",
    "* processing -> movies\n",
    "* customzing plots\n",
    "* create data suitable for matplotlib"
   ]
  },
  {
   "cell_type": "code",
   "execution_count": null,
   "metadata": {
    "collapsed": false
   },
   "outputs": [],
   "source": [
    "import yt\n",
    "\n",
    "#sim = yt.simulation('/Users/jillnaiman1/data/enzo_cosmology_plus/AMRCosmology.enzo', 'Enzo', find_outputs=True)\n",
    "sim = yt.load('/Users/jillnaiman1/data/enzo_cosmology_plus/DD????/DD????')"
   ]
  },
  {
   "cell_type": "code",
   "execution_count": null,
   "metadata": {
    "collapsed": false
   },
   "outputs": [],
   "source": [
    "for ds in sim:\n",
    "    print(ds)"
   ]
  },
  {
   "cell_type": "code",
   "execution_count": null,
   "metadata": {
    "collapsed": false
   },
   "outputs": [],
   "source": [
    "# do plots for every 10th sim\n",
    "for ds in sim[::10]:\n",
    "    slc = yt.SlicePlot(ds,'z','density')\n",
    "    #slc.show()\n",
    "    slc.save()"
   ]
  },
  {
   "cell_type": "markdown",
   "metadata": {},
   "source": [
    "open the slices with an escape character"
   ]
  },
  {
   "cell_type": "code",
   "execution_count": null,
   "metadata": {
    "collapsed": false
   },
   "outputs": [],
   "source": [
    "!open DD*png"
   ]
  },
  {
   "cell_type": "code",
   "execution_count": null,
   "metadata": {
    "collapsed": false
   },
   "outputs": [],
   "source": [
    "# do plots for every 10th sim\n",
    "for ds in sim[::10]:\n",
    "    slc = yt.SlicePlot(ds,'z','density')\n",
    "    slc.set_zlim('density', 1e-31, 4e-28)\n",
    "    # note: can use comoving!\n",
    "    slc.set_width((32,\"Mpccm/h\"))\n",
    "    #slc.show()\n",
    "    slc.save()"
   ]
  },
  {
   "cell_type": "code",
   "execution_count": null,
   "metadata": {
    "collapsed": true
   },
   "outputs": [],
   "source": [
    "!open DD*png"
   ]
  },
  {
   "cell_type": "markdown",
   "metadata": {},
   "source": [
    "We can also make pretty!"
   ]
  },
  {
   "cell_type": "code",
   "execution_count": null,
   "metadata": {
    "collapsed": false
   },
   "outputs": [],
   "source": [
    "# do plots for every 10th sim\n",
    "#for ds in sim[::10]:\n",
    "for ds in sim: #all sims!!\n",
    "    slc = yt.SlicePlot(ds,'z','density')\n",
    "    slc.set_zlim('density', 1e-31, 4e-28)\n",
    "    slc.hide_axes()\n",
    "    slc.hide_colorbar()\n",
    "    slc.set_buff_size((800,800))\n",
    "    # note: can use comoving!\n",
    "    slc.set_width((32,\"Mpccm/h\"))\n",
    "    #slc.show()\n",
    "    slc.save()"
   ]
  },
  {
   "cell_type": "code",
   "execution_count": null,
   "metadata": {
    "collapsed": false
   },
   "outputs": [],
   "source": [
    "import io\n",
    "import base64\n",
    "from IPython.display import HTML\n",
    "\n",
    "video = io.open('out.mp4', 'r+b').read()\n",
    "encoded = base64.b64encode(video)\n",
    "HTML(data='''<video alt=\"test\" controls>\n",
    "                <source src=\"data:video/mp4;base64,{0}\" type=\"video/mp4\" />\n",
    "             </video>'''.format(encoded.decode('ascii')))"
   ]
  },
  {
   "cell_type": "markdown",
   "metadata": {},
   "source": [
    "# NOTE: you can use ds.smooth_covering_grid\n",
    "This will make the plot look smoother -> perhaps use this for Arepo?\n",
    "Also, nearest neighbors?"
   ]
  },
  {
   "cell_type": "code",
   "execution_count": null,
   "metadata": {
    "collapsed": true
   },
   "outputs": [],
   "source": []
  }
 ],
 "metadata": {
  "anaconda-cloud": {},
  "kernelspec": {
   "display_name": "Python [conda root]",
   "language": "python",
   "name": "conda-root-py"
  },
  "language_info": {
   "codemirror_mode": {
    "name": "ipython",
    "version": 2
   },
   "file_extension": ".py",
   "mimetype": "text/x-python",
   "name": "python",
   "nbconvert_exporter": "python",
   "pygments_lexer": "ipython2",
   "version": "2.7.10"
  }
 },
 "nbformat": 4,
 "nbformat_minor": 1
}
