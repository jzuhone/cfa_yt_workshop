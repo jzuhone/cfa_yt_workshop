{
 "cells": [
  {
   "cell_type": "code",
   "execution_count": null,
   "metadata": {
    "collapsed": true
   },
   "outputs": [],
   "source": [
    "import yt"
   ]
  },
  {
   "cell_type": "code",
   "execution_count": null,
   "metadata": {
    "collapsed": false
   },
   "outputs": [],
   "source": [
    "ds = yt.load('/Users/jillnaiman1/data/IsolatedGalaxy/galaxy0030/galaxy0030')"
   ]
  },
  {
   "cell_type": "code",
   "execution_count": null,
   "metadata": {
    "collapsed": false
   },
   "outputs": [],
   "source": [
    "sp = ds.sphere(\"max\", (200,'kpc')) # as an example, we can do surfaces within a spherical data object"
   ]
  },
  {
   "cell_type": "code",
   "execution_count": null,
   "metadata": {
    "collapsed": true
   },
   "outputs": [],
   "source": [
    "surf = ds.surface(sp, \"density\", 1e-27)"
   ]
  },
  {
   "cell_type": "code",
   "execution_count": null,
   "metadata": {
    "collapsed": false
   },
   "outputs": [],
   "source": [
    "surf.export_obj('./myobj', transparency = 0.5, color_field='temperature')"
   ]
  },
  {
   "cell_type": "markdown",
   "metadata": {},
   "source": [
    "<h1> Movies!</h1>\n",
    "So, lets make a simple 3D movie for upload on sketchfab"
   ]
  },
  {
   "cell_type": "code",
   "execution_count": null,
   "metadata": {
    "collapsed": false
   },
   "outputs": [],
   "source": [
    "rhos = [1e-24, 1e-27] # which densities to loop through\n",
    "dt = 3.0 # how many seconds between snapshots (for a better movie I like 0.1 secs)\n",
    "\n",
    "timefile = open('sketchfab.timeframe','w')\n",
    "\n",
    "for i in range(0,len(rhos)):\n",
    "    surf = ds.surface(ds.all_data(), \"density\", rhos[i]) # instead of a sphere object, we are using all data here\n",
    "    file_name = 'myobj' + str(i).zfill(3)\n",
    "    surf.export_obj(file_name, color_field='temperature')\n",
    "    timefile.write(str(dt) + ' ' + file_name + '.obj \\n')\n",
    "    \n",
    "timefile.close()\n"
   ]
  },
  {
   "cell_type": "markdown",
   "metadata": {},
   "source": [
    "Now one with moar files!"
   ]
  },
  {
   "cell_type": "code",
   "execution_count": null,
   "metadata": {
    "collapsed": true
   },
   "outputs": [],
   "source": [
    "import numpy as np"
   ]
  },
  {
   "cell_type": "code",
   "execution_count": null,
   "metadata": {
    "collapsed": true
   },
   "outputs": [],
   "source": [
    "rhos = np.logspace(-24, -27, 100)"
   ]
  },
  {
   "cell_type": "code",
   "execution_count": null,
   "metadata": {
    "collapsed": false
   },
   "outputs": [],
   "source": [
    "timefile = open('sketchfab.timeframe','w')\n",
    "dt = 0.1\n",
    "for i in range(0,len(rhos)):\n",
    "    print('on ' + str(i))\n",
    "    surf = ds.surface(ds.all_data(), \"density\", rhos[i])\n",
    "    file_name = 'myobj' + str(i).zfill(3)\n",
    "    surf.export_obj(file_name, color_field='temperature')\n",
    "    timefile.write(str(dt) + ' ' + file_name + '.obj \\n')\n",
    "    \n",
    "timefile.close()\n",
    "   "
   ]
  },
  {
   "cell_type": "code",
   "execution_count": null,
   "metadata": {
    "collapsed": true
   },
   "outputs": [],
   "source": []
  }
 ],
 "metadata": {
  "anaconda-cloud": {},
  "kernelspec": {
   "display_name": "Python [conda root]",
   "language": "python",
   "name": "conda-root-py"
  },
  "language_info": {
   "codemirror_mode": {
    "name": "ipython",
    "version": 2
   },
   "file_extension": ".py",
   "mimetype": "text/x-python",
   "name": "python",
   "nbconvert_exporter": "python",
   "pygments_lexer": "ipython2",
   "version": "2.7.10"
  }
 },
 "nbformat": 4,
 "nbformat_minor": 1
}
